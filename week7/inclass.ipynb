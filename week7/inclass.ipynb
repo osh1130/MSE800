{
 "cells": [
  {
   "cell_type": "code",
   "execution_count": null,
   "id": "84081f81",
   "metadata": {},
   "outputs": [
    {
     "name": "stdout",
     "output_type": "stream",
     "text": [
      "Animal speaks.\n",
      "Dog barks.\n"
     ]
    },
    {
     "ename": "AttributeError",
     "evalue": "'Animal' object has no attribute 'bark'",
     "output_type": "error",
     "traceback": [
      "\u001b[31m---------------------------------------------------------------------------\u001b[39m",
      "\u001b[31mAttributeError\u001b[39m                            Traceback (most recent call last)",
      "\u001b[36mCell\u001b[39m\u001b[36m \u001b[39m\u001b[32mIn[3]\u001b[39m\u001b[32m, line 17\u001b[39m\n\u001b[32m     14\u001b[39m d.bark()  \n\u001b[32m     16\u001b[39m a = Animal()\n\u001b[32m---> \u001b[39m\u001b[32m17\u001b[39m \u001b[43ma\u001b[49m\u001b[43m.\u001b[49m\u001b[43mbark\u001b[49m()\n",
      "\u001b[31mAttributeError\u001b[39m: 'Animal' object has no attribute 'bark'"
     ]
    }
   ],
   "source": [
    "#Animal is the parent class and has a method called speak().\n",
    "class Animal:\n",
    "    def speak(self):\n",
    "        print(\"Animal speaks.\")\n",
    "\n",
    "#Dog is the child class, which inherits from Animal and has its own method called bark().\n",
    "class Dog(Animal):\n",
    "    def bark(self):\n",
    "        print(\"Dog barks.\")\n",
    "\n",
    "#After creating a Dog object, which can directly call the inherited speak() method as well as the child’s own bark() method.\n",
    "d = Dog()\n",
    "d.speak()  \n",
    "d.bark()  \n",
    "\n",
    "a = Animal()\n",
    "#a.bark()\n"
   ]
  },
  {
   "cell_type": "code",
   "execution_count": 4,
   "id": "6104eef5",
   "metadata": {},
   "outputs": [
    {
     "name": "stdout",
     "output_type": "stream",
     "text": [
      "Animal speaks.\n",
      "Dog barks.\n",
      "Animal speaks.\n",
      "Cat meows.\n"
     ]
    }
   ],
   "source": [
    "# Animal is the parent class and has a method called speak().\n",
    "class Animal:\n",
    "    def speak(self):\n",
    "        print(\"Animal speaks.\")\n",
    "\n",
    "# Dog is a child class that inherits from Animal and has its own method called bark().\n",
    "class Dog(Animal):\n",
    "    def bark(self):\n",
    "        print(\"Dog barks.\")\n",
    "\n",
    "# Cat is another child class that inherits from Animal and has its own method called meow().\n",
    "class Cat(Animal):\n",
    "    def meow(self):\n",
    "        print(\"Cat meows.\")\n",
    "\n",
    "# Create a Dog object, which can call both the inherited speak() method and its own bark() method.\n",
    "d = Dog()\n",
    "d.speak()  # Calls inherited method from Animal\n",
    "d.bark()   # Calls Dog's own method\n",
    "\n",
    "# Create a Cat object, which can call both the inherited speak() method and its own meow() method.\n",
    "c = Cat()\n",
    "c.speak()  # Calls inherited method from Animal\n",
    "c.meow()   # Calls Cat's own method\n",
    "\n",
    "# Create an Animal object. Animal objects cannot call bark() or meow().\n",
    "a = Animal()\n",
    "# a.bark()  # This would cause an error, because Animal has no method 'bark'\n",
    "# a.meow()  # This would cause an error, because Animal has no method 'meow'\n"
   ]
  },
  {
   "cell_type": "code",
   "execution_count": null,
   "id": "38e863ad",
   "metadata": {},
   "outputs": [
    {
     "name": "stdout",
     "output_type": "stream",
     "text": [
      "Hi, I'm John, 20 years old, and my student ID is 1234.\n"
     ]
    }
   ],
   "source": [
    "# Person is the parent class with attributes name and age, and a method called introduce().\n",
    "class Person:\n",
    "    def __init__(self, name, age):\n",
    "        self.name = name\n",
    "        self.age = age\n",
    "    \n",
    "    def introduce(self):\n",
    "        print(f\"Hi, I'm {self.name}, {self.age} years old.\")\n",
    "\n",
    "# Student is the child class that inherits from Person and adds its own attribute student_id.\n",
    "class Student(Person):\n",
    "    def __init__(self, name, age, student_id):\n",
    "        # Call the constructor of the parent class to initialize name and age.\n",
    "        super().__init__(name, age)       \n",
    "        self.student_id = student_id\n",
    "    \n",
    "    # Override the introduce() method to also display the student ID.\n",
    "    def introduce(self):\n",
    "        print(f\"Hi, I'm {self.name}, {self.age} years old, and my student ID is {self.student_id}.\")\n",
    "\n",
    "# Create a Student object, which can call the overridden introduce() method.\n",
    "s = Student(\"John\", 20, 1234)\n",
    "s.introduce() \n",
    "\n",
    "# single inheritance"
   ]
  },
  {
   "cell_type": "code",
   "execution_count": 7,
   "id": "78682f9b",
   "metadata": {},
   "outputs": [
    {
     "name": "stdout",
     "output_type": "stream",
     "text": [
      "Company: OpenAI Inc.\n",
      "Employee ID: 1024, Department: R&D\n",
      "Programming Language: Python\n",
      "Uses ML Framework: TensorFlow\n"
     ]
    }
   ],
   "source": [
    "class Company:\n",
    "    def __init__(self, name):\n",
    "        self.name = name\n",
    "\n",
    "    def company_info(self):\n",
    "        print(f\"Company: {self.name}\")\n",
    "\n",
    "class Employee(Company):\n",
    "    def __init__(self, name, emp_id, department):\n",
    "        super().__init__(name)\n",
    "        self.emp_id = emp_id\n",
    "        self.department = department\n",
    "\n",
    "    def employee_info(self):\n",
    "        print(f\"Employee ID: {self.emp_id}, Department: {self.department}\")\n",
    "\n",
    "class Developer(Employee):\n",
    "    def __init__(self, name, emp_id, department, language):\n",
    "        super().__init__(name, emp_id, department)\n",
    "        self.language = language\n",
    "\n",
    "    def developer_info(self):\n",
    "        print(f\"Programming Language: {self.language}\")\n",
    "\n",
    "class AIEngineer(Developer):\n",
    "    def __init__(self, name, emp_id, department, language, ml_framework):\n",
    "        super().__init__(name, emp_id, department, language)\n",
    "        self.ml_framework = ml_framework\n",
    "\n",
    "    def ai_engineer_info(self):\n",
    "        print(f\"Uses ML Framework: {self.ml_framework}\")\n",
    "\n",
    "# Creating an object of AIEngineer\n",
    "engineer = AIEngineer(\"OpenAI Inc.\", 1024, \"R&D\", \"Python\", \"TensorFlow\")\n",
    "\n",
    "# Accessing methods from all levels\n",
    "engineer.company_info()\n",
    "engineer.employee_info()\n",
    "engineer.developer_info()\n",
    "engineer.ai_engineer_info()\n"
   ]
  }
 ],
 "metadata": {
  "kernelspec": {
   "display_name": "mse800env",
   "language": "python",
   "name": "python3"
  },
  "language_info": {
   "codemirror_mode": {
    "name": "ipython",
    "version": 3
   },
   "file_extension": ".py",
   "mimetype": "text/x-python",
   "name": "python",
   "nbconvert_exporter": "python",
   "pygments_lexer": "ipython3",
   "version": "3.11.11"
  }
 },
 "nbformat": 4,
 "nbformat_minor": 5
}
