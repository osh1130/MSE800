{
 "cells": [
  {
   "cell_type": "code",
   "execution_count": null,
   "id": "f79ed079",
   "metadata": {},
   "outputs": [
    {
     "data": {
      "text/html": [
       "<div>\n",
       "<style scoped>\n",
       "    .dataframe tbody tr th:only-of-type {\n",
       "        vertical-align: middle;\n",
       "    }\n",
       "\n",
       "    .dataframe tbody tr th {\n",
       "        vertical-align: top;\n",
       "    }\n",
       "\n",
       "    .dataframe thead th {\n",
       "        text-align: right;\n",
       "    }\n",
       "</style>\n",
       "<table border=\"1\" class=\"dataframe\">\n",
       "  <thead>\n",
       "    <tr style=\"text-align: right;\">\n",
       "      <th></th>\n",
       "      <th>EmailID</th>\n",
       "      <th>Subject</th>\n",
       "      <th>Sender</th>\n",
       "      <th>Content</th>\n",
       "      <th>ContainsLink</th>\n",
       "      <th>IsSpam</th>\n",
       "    </tr>\n",
       "  </thead>\n",
       "  <tbody>\n",
       "    <tr>\n",
       "      <th>0</th>\n",
       "      <td>1</td>\n",
       "      <td>Win a Free iPhone!</td>\n",
       "      <td>promo@winbig.com</td>\n",
       "      <td>Click here to claim your free iPhone now!</td>\n",
       "      <td>True</td>\n",
       "      <td>True</td>\n",
       "    </tr>\n",
       "    <tr>\n",
       "      <th>1</th>\n",
       "      <td>2</td>\n",
       "      <td>Important: Account Suspension</td>\n",
       "      <td>support@fakemail.com</td>\n",
       "      <td>We noticed unusual activity. Verify now.</td>\n",
       "      <td>True</td>\n",
       "      <td>True</td>\n",
       "    </tr>\n",
       "    <tr>\n",
       "      <th>2</th>\n",
       "      <td>3</td>\n",
       "      <td>Newsletter - April Update</td>\n",
       "      <td>news@legitcompany.com</td>\n",
       "      <td>Here is your monthly newsletter.</td>\n",
       "      <td>False</td>\n",
       "      <td>False</td>\n",
       "    </tr>\n",
       "    <tr>\n",
       "      <th>3</th>\n",
       "      <td>4</td>\n",
       "      <td>You have been selected</td>\n",
       "      <td>lottery@scam.org</td>\n",
       "      <td>Congratulations! You are our lucky winner!</td>\n",
       "      <td>True</td>\n",
       "      <td>True</td>\n",
       "    </tr>\n",
       "    <tr>\n",
       "      <th>4</th>\n",
       "      <td>5</td>\n",
       "      <td>Team Meeting Agenda</td>\n",
       "      <td>colleague@company.com</td>\n",
       "      <td>Please find the agenda for tomorrow’s meeting ...</td>\n",
       "      <td>False</td>\n",
       "      <td>False</td>\n",
       "    </tr>\n",
       "  </tbody>\n",
       "</table>\n",
       "</div>"
      ],
      "text/plain": [
       "   EmailID                        Subject                 Sender  \\\n",
       "0        1             Win a Free iPhone!       promo@winbig.com   \n",
       "1        2  Important: Account Suspension   support@fakemail.com   \n",
       "2        3      Newsletter - April Update  news@legitcompany.com   \n",
       "3        4         You have been selected       lottery@scam.org   \n",
       "4        5            Team Meeting Agenda  colleague@company.com   \n",
       "\n",
       "                                             Content  ContainsLink  IsSpam  \n",
       "0          Click here to claim your free iPhone now!          True    True  \n",
       "1           We noticed unusual activity. Verify now.          True    True  \n",
       "2                   Here is your monthly newsletter.         False   False  \n",
       "3         Congratulations! You are our lucky winner!          True    True  \n",
       "4  Please find the agenda for tomorrow’s meeting ...         False   False  "
      ]
     },
     "execution_count": 3,
     "metadata": {},
     "output_type": "execute_result"
    }
   ],
   "source": [
    "import pandas as pd\n",
    "\n",
    "df = pd.read_csv('sample_junk_mail.csv')\n",
    "\n",
    "df.head()\n"
   ]
  },
  {
   "cell_type": "code",
   "execution_count": 1,
   "id": "1e4417bf",
   "metadata": {},
   "outputs": [
    {
     "name": "stdout",
     "output_type": "stream",
     "text": [
      "Number of '__' in text file: 2\n"
     ]
    }
   ],
   "source": [
    "import pandas as pd\n",
    "\n",
    "underscore_count = 0\n",
    "with open('sample_text.txt', 'r') as f:\n",
    "    text = f.read()\n",
    "    underscore_count += text.count('__')\n",
    "print(f\"Number of '__' in text file: {underscore_count}\")\n",
    "\n"
   ]
  },
  {
   "cell_type": "code",
   "execution_count": 3,
   "id": "059996e3",
   "metadata": {},
   "outputs": [
    {
     "name": "stdout",
     "output_type": "stream",
     "text": [
      "Number of features in parquet file: 12\n"
     ]
    }
   ],
   "source": [
    "import pandas as pd\n",
    "\n",
    "df = pd.read_parquet('Sample_data_2.parquet')\n",
    "print(f\"Number of features in parquet file: {df.shape[1]}\")"
   ]
  }
 ],
 "metadata": {
  "kernelspec": {
   "display_name": "mse800env",
   "language": "python",
   "name": "python3"
  },
  "language_info": {
   "codemirror_mode": {
    "name": "ipython",
    "version": 3
   },
   "file_extension": ".py",
   "mimetype": "text/x-python",
   "name": "python",
   "nbconvert_exporter": "python",
   "pygments_lexer": "ipython3",
   "version": "3.11.11"
  }
 },
 "nbformat": 4,
 "nbformat_minor": 5
}
