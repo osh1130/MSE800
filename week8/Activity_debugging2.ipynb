{
 "cells": [
  {
   "cell_type": "code",
   "execution_count": 5,
   "id": "d54f011e-918e-4af8-9d88-bdd3abe5ac0a",
   "metadata": {},
   "outputs": [],
   "source": [
    "from random import randint"
   ]
  },
  {
   "cell_type": "code",
   "execution_count": 6,
   "id": "e02fd5e3-2b7e-471a-a87d-815b42ed4b54",
   "metadata": {},
   "outputs": [
    {
     "name": "stdout",
     "output_type": "stream",
     "text": [
      "You got it!\n"
     ]
    }
   ],
   "source": [
    "# example 1\n",
    "for i in range(1, 21):\n",
    "    if i == 20:\n",
    "        print(f\"You got it!\")\n",
    "\n",
    "# Describe the problem - Write your answers as comments:\n",
    "# 1. what is the loop doing?\n",
    "# 2. When is the function meant to print \"You got it!\"?\n",
    "# 3. What are your assumptions about the value of i?"
   ]
  },
  {
   "cell_type": "code",
   "execution_count": 7,
   "id": "c98e40dc-8074-4260-aeeb-261b2b599563",
   "metadata": {},
   "outputs": [],
   "source": [
    "# 1. what is the loop doing?\n",
    "#    The loop iterates over the numbers from 1 to 19 (inclusive), because range(1, 20) generates numbers starting at 1 and ending before 20.\n",
    "\n",
    "# 2. When is the function meant to print \"You got it!\"?\n",
    "#    The function is meant to print \"You got it!\" when the value of i is 20.\n",
    "\n",
    "# 3. What are your assumptions about the value of i?\n",
    "#    The assumption is that i will take the value 20 at some point in the loop. \n",
    "#    However, since the loop only goes up to 19, i will **never** be 20. \n",
    "#    As a result, \"You got it!\" will never be printed."
   ]
  },
  {
   "cell_type": "code",
   "execution_count": 8,
   "id": "8d18a63c-ab13-4a31-942c-be33a1607cda",
   "metadata": {},
   "outputs": [
    {
     "name": "stdout",
     "output_type": "stream",
     "text": [
      "4\n"
     ]
    }
   ],
   "source": [
    "# example 2\n",
    "dice_images = [\"1\", \"2\", \"3\", \"4\", \"5\", \"6\"]\n",
    "dice_num = randint(1, 5)\n",
    "print(dice_images[dice_num])"
   ]
  },
  {
   "cell_type": "code",
   "execution_count": 9,
   "id": "a865d918-5ee4-4c6a-beda-bbcd2e3ea9fa",
   "metadata": {},
   "outputs": [],
   "source": [
    "# 1. What is the code supposed to do?\n",
    "#    It is supposed to randomly select a dice number (1 to 6) and print the corresponding dice image from the dice_images list.\n",
    "\n",
    "# 2. What is the bug?\n",
    "#    The bug is in the line: print(dice_images[dice_num])\n",
    "#    In Python, list indices start at 0. The dice_num will be a value from 1 to 6 (inclusive),\n",
    "#    but the valid indices for dice_images are 0 to 5.\n",
    "#    If dice_num is 6, dice_images[6] will cause an \"IndexError: list index out of range\".\n",
    "\n",
    "# 3. What should be changed?\n",
    "#    You should subtract 1 from dice_num when indexing the list:\n",
    "#    print(dice_images[dice_num - 1])\n"
   ]
  },
  {
   "cell_type": "code",
   "execution_count": null,
   "id": "88ce2963-10bf-42ec-a02f-89811bda74fe",
   "metadata": {},
   "outputs": [
    {
     "name": "stdout",
     "output_type": "stream",
     "text": [
      "You are a Gen Z\n"
     ]
    }
   ],
   "source": [
    "# example 3\n",
    "year = int(input(\"What is your year of birth?\"))\n",
    "\n",
    "if year > 1980 and year < 1994:\n",
    "    print(\"You are a Millennial\")\n",
    "\n",
    "elif year > 1994:\n",
    "    print(\"You are a Gen Z\")\n"
   ]
  },
  {
   "cell_type": "code",
   "execution_count": null,
   "id": "95197a19-1f0c-49b1-8d98-06f9098eaa91",
   "metadata": {},
   "outputs": [],
   "source": [
    "# 1. What is the code doing?\n",
    "#    It asks the user for their year of birth, then prints whether they are a \"Millennial\" or \"Gen Z\" based on their input.\n",
    "\n",
    "# 2. What are the boundaries for being a Millennial?\n",
    "#    According to the code: Millennial means year > 1980 and year < 1994 (i.e., 1981 to 1993 inclusive).\n",
    "\n",
    "# 3. What are the boundaries for being Gen Z?\n",
    "#    According to the code: Gen Z means year > 1994 (i.e., 1995 onwards).\n",
    "\n",
    "# 4. What are the issues?\n",
    "#    - People born **in 1980**, **1994**, or **1995** are not included in either group (off-by-one error).\n",
    "#    - There is no output for users born in or before 1980, or in 1994/1995.\n",
    "\n",
    "# 5. How can this be fixed?\n",
    "#    - Use inclusive boundaries if that's the intention, e.g.:\n",
    "#      if 1981 <= year <= 1996:\n",
    "#          print(\"You are a Millennial\")\n",
    "#      elif 1997 <= year:\n",
    "#          print(\"You are a Gen Z\")\n",
    "#    - Optionally, add an else clause to handle other years.\n"
   ]
  },
  {
   "cell_type": "code",
   "execution_count": 12,
   "id": "c285fc19-0db3-4af1-bcbe-53bbbeccece4",
   "metadata": {},
   "outputs": [
    {
     "name": "stdout",
     "output_type": "stream",
     "text": [
      "We have 1 in total.\n"
     ]
    }
   ],
   "source": [
    "# example 4\n",
    "word_per_page = 0\n",
    "pages = int(input(\"Number of pages: \"))\n",
    "word_per_page = int(input(\"Number of words per page: \"))\n",
    "total_words = pages * word_per_page\n",
    "\n",
    "print(f\"We have {total_words} in total.\")"
   ]
  },
  {
   "cell_type": "code",
   "execution_count": 13,
   "id": "a06c6fa2-8fd9-471d-aed7-c76f37704579",
   "metadata": {},
   "outputs": [],
   "source": [
    "# 1. What is the code doing?\n",
    "#    It asks the user for the number of pages and the number of words per page, \n",
    "#    then calculates and prints the total number of words.\n",
    "\n",
    "# 2. Where is the bug?\n",
    "#    The line:\n",
    "#    word_per_page == int(input(\"Number of words per page: \"))\n",
    "#    uses '==' (comparison operator) instead of '=' (assignment operator).\n",
    "\n",
    "#    This line does not update the value of word_per_page.\n",
    "#    So, word_per_page remains 0, making total_words always 0.\n",
    "\n",
    "# 3. How should it be fixed?\n",
    "#    Change '==' to '=' to assign the value:\n",
    "#    word_per_page = int(input(\"Number of words per page: \"))\n"
   ]
  },
  {
   "cell_type": "code",
   "execution_count": 14,
   "id": "2effe735-10b3-4966-bb79-fffd2dc5138f",
   "metadata": {},
   "outputs": [],
   "source": [
    "# example 5\n",
    "def add(a1, a2):\n",
    "    return a1 + a2\n",
    "\n",
    "def mutate(a_list):\n",
    "    b_list = []\n",
    "    new_item = 0\n",
    "    for item in a_list:\n",
    "        new_item = item * 2\n",
    "        new_item += randint(1, 3)\n",
    "        new_item = add(new_item, item)\n",
    "        b_list.append(new_item)\n",
    "\n",
    "    print(b_list)"
   ]
  },
  {
   "cell_type": "code",
   "execution_count": 15,
   "id": "2f7d32a6-565c-4573-9fb2-6203e69943f9",
   "metadata": {},
   "outputs": [
    {
     "name": "stdout",
     "output_type": "stream",
     "text": [
      "[5, 9, 10, 17, 5, 65, 15, 106]\n"
     ]
    }
   ],
   "source": [
    "a_demo_list = [1, 2, 3, 5, 1, 21, 4, 35]\n",
    "mutate(a_demo_list)"
   ]
  },
  {
   "cell_type": "code",
   "execution_count": 16,
   "id": "d4192a55-7ed1-4052-b5ac-3cc3a1c1a7c5",
   "metadata": {},
   "outputs": [],
   "source": [
    "# 1. What is the function supposed to do?\n",
    "#    The mutate() function is intended to take a list, \n",
    "#    process each item in the list (mutate it), and return a new list of mutated items.\n",
    "#    For each item, it should:\n",
    "#      - Double the value,\n",
    "#      - Add a random integer between 1 and 3,\n",
    "#      - Add the original item again.\n",
    "#    Then, collect the result for each item into a new list.\n",
    "\n",
    "# 2. Where is the bug?\n",
    "#    The line \"b_list.append(new_item)\" is outside the for-loop, \n",
    "#    so only the last mutated item is appended (not each one).\n",
    "#    As a result, b_list will only contain one item—the mutated version of the last element in a_list.\n",
    "\n",
    "# 3. What should be changed?\n",
    "#    The append statement should be **inside** the for-loop so that each mutated item is added to b_list.\n"
   ]
  },
  {
   "cell_type": "code",
   "execution_count": null,
   "id": "0f6a8d7e-d608-4d89-872f-33b4478ce2d3",
   "metadata": {},
   "outputs": [],
   "source": []
  }
 ],
 "metadata": {
  "kernelspec": {
   "display_name": "mse800env",
   "language": "python",
   "name": "python3"
  },
  "language_info": {
   "codemirror_mode": {
    "name": "ipython",
    "version": 3
   },
   "file_extension": ".py",
   "mimetype": "text/x-python",
   "name": "python",
   "nbconvert_exporter": "python",
   "pygments_lexer": "ipython3",
   "version": "3.11.11"
  }
 },
 "nbformat": 4,
 "nbformat_minor": 5
}
