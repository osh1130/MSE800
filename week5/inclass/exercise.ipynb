{
 "cells": [
  {
   "cell_type": "code",
   "execution_count": 3,
   "id": "5074a344",
   "metadata": {},
   "outputs": [
    {
     "name": "stdout",
     "output_type": "stream",
     "text": [
      "{'a': 1, 'd': 4}\n"
     ]
    }
   ],
   "source": [
    "dict1 = {'a': 1, 'b': 2, 'c': 3}\n",
    "dict2 = {'d': 4, 'e': 5, 'f': 6}\n",
    "\n",
    "merged_dict = {\n",
    "    **{k: v for k, v in dict1.items() if v == 1},\n",
    "    **{k: v for k, v in dict2.items() if v == 4}\n",
    "}\n",
    "\n",
    "print(merged_dict)"
   ]
  },
  {
   "cell_type": "code",
   "execution_count": 7,
   "id": "055435b2",
   "metadata": {},
   "outputs": [
    {
     "name": "stdout",
     "output_type": "stream",
     "text": [
      "[[1, 'Alice', 'A'], [2, 'Bob', 'B'], [3, 'Cathy', 'A+']]\n"
     ]
    }
   ],
   "source": [
    "ids = [1,2,3]\n",
    "names = ['Alice','Bob','Cathy','Mike']\n",
    "grades = ['A','B','A+','A']\n",
    "\n",
    "students = list(zip(ids,names,grades))\n",
    "students = [list(t) for t in zip(ids, names, grades)]\n",
    "print(students)"
   ]
  },
  {
   "cell_type": "code",
   "execution_count": 10,
   "id": "dd6c854b",
   "metadata": {},
   "outputs": [
    {
     "name": "stdout",
     "output_type": "stream",
     "text": [
      "[[1, 'Alice', 'A'], [2, 'Bob', 'B'], [3, 'Cathy', 'A+']]\n"
     ]
    }
   ],
   "source": [
    "ids = [1, 2, 3]\n",
    "names = ['Alice', 'Bob', 'Cathy', 'Mike']\n",
    "grades = ['A', 'B', 'A+', 'A']\n",
    "\n",
    "students = list(map(list, zip(ids, names, grades)))\n",
    "print(students)\n"
   ]
  }
 ],
 "metadata": {
  "kernelspec": {
   "display_name": "mse800env",
   "language": "python",
   "name": "python3"
  },
  "language_info": {
   "codemirror_mode": {
    "name": "ipython",
    "version": 3
   },
   "file_extension": ".py",
   "mimetype": "text/x-python",
   "name": "python",
   "nbconvert_exporter": "python",
   "pygments_lexer": "ipython3",
   "version": "3.11.11"
  }
 },
 "nbformat": 4,
 "nbformat_minor": 5
}
