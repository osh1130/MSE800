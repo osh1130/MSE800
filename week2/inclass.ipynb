{
 "cells": [
  {
   "cell_type": "code",
   "execution_count": 2,
   "id": "f3f476d7",
   "metadata": {},
   "outputs": [
    {
     "name": "stdout",
     "output_type": "stream",
     "text": [
      "area：2.9 \n"
     ]
    }
   ],
   "source": [
    "length = 1\n",
    "width = 2.9\n",
    "\n",
    "area = length * width\n",
    "\n",
    "rounded_area = round(area, 2)\n",
    "\n",
    "print(f\"area：{rounded_area} \")\n"
   ]
  },
  {
   "cell_type": "code",
   "execution_count": 3,
   "id": "c1cb3ec4",
   "metadata": {},
   "outputs": [
    {
     "data": {
      "text/plain": [
       "4.9"
      ]
     },
     "execution_count": 3,
     "metadata": {},
     "output_type": "execute_result"
    }
   ],
   "source": [
    "x = -4.9\n",
    "abs(x)"
   ]
  },
  {
   "cell_type": "code",
   "execution_count": 4,
   "id": "e922a1bd",
   "metadata": {},
   "outputs": [
    {
     "data": {
      "text/plain": [
       "-4"
      ]
     },
     "execution_count": 4,
     "metadata": {},
     "output_type": "execute_result"
    }
   ],
   "source": [
    "int(x)"
   ]
  },
  {
   "cell_type": "code",
   "execution_count": null,
   "id": "ccf9e953",
   "metadata": {},
   "outputs": [
    {
     "name": "stdout",
     "output_type": "stream",
     "text": [
      "3628800\n"
     ]
    }
   ],
   "source": [
    "def factorial(x):\n",
    "    res=1\n",
    "    if x <= 0:\n",
    "        return x\n",
    "    for i in range(x,0,-1): \n",
    "        res=i*res\n",
    "    return res\n",
    "\n",
    "x = 10\n",
    "print(factorial(x))"
   ]
  },
  {
   "cell_type": "code",
   "execution_count": null,
   "id": "59e7e8d4",
   "metadata": {},
   "outputs": [],
   "source": []
  },
  {
   "cell_type": "code",
   "execution_count": null,
   "id": "418865c8",
   "metadata": {},
   "outputs": [],
   "source": [
    "def captureAttendance():\n",
    "    # This function is responsible for capturing the current attendance information(return attendance status)\n",
    "    pass\n",
    "\n",
    "def verifyStudentIdentity():\n",
    "    # Verify that the student's identity is valid for attendance information\n",
    "    captureAttendance()\n",
    "    pass\n",
    "\n",
    "def recordAttendance():\n",
    "    # Record successfully validated attendance information into the attendance database\n",
    "    verifyStudentIdentity()\n",
    "    pass"
   ]
  },
  {
   "cell_type": "code",
   "execution_count": null,
   "id": "5f7dedca",
   "metadata": {},
   "outputs": [],
   "source": [
    "class Student:\n",
    "    # Student information\n",
    "    # get_student_info.\n",
    "    pass\n",
    "\n",
    "class Course:\n",
    "    # Course information Class time, location, etc.\n",
    "    # get_course_info\n",
    "    # captureAttendance information(Calling cameras )\n",
    "    pass\n",
    "\n",
    "class AttendanceSystem:\n",
    "    # Verify_identity()\n",
    "    # Record_attendance\n",
    "    pass"
   ]
  }
 ],
 "metadata": {
  "kernelspec": {
   "display_name": "mse800env",
   "language": "python",
   "name": "python3"
  },
  "language_info": {
   "codemirror_mode": {
    "name": "ipython",
    "version": 3
   },
   "file_extension": ".py",
   "mimetype": "text/x-python",
   "name": "python",
   "nbconvert_exporter": "python",
   "pygments_lexer": "ipython3",
   "version": "3.11.11"
  }
 },
 "nbformat": 4,
 "nbformat_minor": 5
}
